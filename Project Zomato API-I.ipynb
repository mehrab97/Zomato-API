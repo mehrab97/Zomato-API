{
 "cells": [
  {
   "cell_type": "markdown",
   "metadata": {},
   "source": [
    "## Project Details\n",
    "For this project, we are using the Zomato API.\n",
    "Zomato APIs give you access to the freshest and most exhaustive information for over 1.5 million restaurants across 10,000 cities globally.\n",
    "\n",
    "Zomato API documentation link-https://developers.zomato.com/api\n",
    "\n",
    "### Our Motivation for using Zomato API:\n",
    "By Collecting the data using Zomato API one can recommend restaurants on the basis of user’s affinity to specific cuisines, establishment types, locations, and price bands.\n",
    "We can find out whether restaurant support online reservation or not.\n",
    "We can find what is the most popular and/ or exclusive/new at a given location & time.\n"
   ]
  },
  {
   "cell_type": "markdown",
   "metadata": {},
   "source": [
    "## Zomato cuisine problem details\n",
    "Mexican cuisine began about 9,000 years ago, when agricultural communities such as the Maya formed, domesticating maize, creating the standard process of corn nixtamalization, and establishing their foodways.\n",
    "You are a huge fan of ‘Mexican’ cuisine. Now using the Zomato API you want to analyse the best restaurant serving the Mexican Cuisine, their locations, and cost for two, etc.\n",
    "There is a list of questions related to Mexican cuisines given in the next section.\n"
   ]
  },
  {
   "cell_type": "markdown",
   "metadata": {},
   "source": [
    "## Zomato Cuisine 1.1\n",
    "Fetch the cuisine_id of ‘Mexican’ cuisine using Zomato API.\n",
    "Print the cuisine_id.\n",
    "\n",
    "Output Format:\n",
    "cuisine_id"
   ]
  },
  {
   "cell_type": "code",
   "execution_count": 33,
   "metadata": {},
   "outputs": [
    {
     "name": "stdout",
     "output_type": "stream",
     "text": [
      "73\n"
     ]
    }
   ],
   "source": [
    "import requests\n",
    "import json\n",
    "# API Key: 8ed094119a0b86b85f48073fe55974cc\n",
    "header={}\n",
    "p=requests.get('https://developers.zomato.com/api/v2.1/cuisines',params={'city_id':1},headers={'user-key': '8ed094119a0b86b85f48073fe55974cc'})\n",
    "python_data=p.json()\n",
    "#print(python_data)\n",
    "for i in python_data['cuisines']:\n",
    "    if i['cuisine']['cuisine_name']=='Mexican':\n",
    "        print(i['cuisine']['cuisine_id'])"
   ]
  },
  {
   "cell_type": "markdown",
   "metadata": {},
   "source": [
    "## Zomato Cuisine 1.3\n",
    "Fetch the entityid and entitytype of place Connaught Place.\n",
    "Print the entityid and entitytype.\n",
    "\n",
    "Output Format:\n",
    "entity_type entity_id"
   ]
  },
  {
   "cell_type": "code",
   "execution_count": 35,
   "metadata": {},
   "outputs": [
    {
     "name": "stdout",
     "output_type": "stream",
     "text": [
      "{'location_suggestions': [{'entity_type': 'subzone', 'entity_id': 104, 'title': 'Connaught Place, New Delhi', 'latitude': 28.632832, 'longitude': 77.219688, 'city_id': 1, 'city_name': 'Delhi NCR', 'country_id': 1, 'country_name': 'India'}], 'status': 'success', 'has_more': 0, 'has_total': 0, 'user_has_addresses': True}\n",
      "subzone 104\n"
     ]
    }
   ],
   "source": [
    "import requests\n",
    "import json\n",
    "# API Key: 8ed094119a0b86b85f48073fe55974cc\n",
    "header={}\n",
    "p=requests.get('https://developers.zomato.com/api/v2.1/locations?query=Connaught%20Place',headers={'user-key': '8ed094119a0b86b85f48073fe55974cc'},\n",
    "                                                                                                 params={'query':'Connaught Place'})\n",
    "python_data=p.json()\n",
    "#print(python_data)\n",
    "for i in python_data['location_suggestions']:\n",
    "    print(i['entity_type'],i['entity_id'])"
   ]
  },
  {
   "cell_type": "markdown",
   "metadata": {},
   "source": [
    "## Zomato Cuisine 1.4\n",
    "Fetch the top 10 best-rated restaurant serving ‘Mexican’ cuisine present in Connaught Place.\n",
    "Print the restaurant name, user rating and restaurant id.\n",
    "\n",
    "Output Format:\n",
    "\n",
    "name_1 rating_1 id_1\n",
    "\n",
    "name_2 rating_2 id_2\n",
    "\n",
    "name_3 rating_3 id_3\n",
    "\n",
    ". . .\n",
    "\n",
    ". . .\n"
   ]
  },
  {
   "cell_type": "code",
   "execution_count": 55,
   "metadata": {},
   "outputs": [
    {
     "name": "stdout",
     "output_type": "stream",
     "text": [
      "Farzi Cafe 4.5 18233593\n",
      "Station Bar 4.5 18851371\n",
      "Ministry Of Beer 4.4 18418277\n",
      "Lord Of The Drinks 4.4 312603\n",
      "Chili's Grill & Bar 4.4 18537536\n",
      "Local 4.3 18382360\n",
      "Warehouse Cafe 4.3 301605\n",
      "Xero Degrees 4.3 18729557\n",
      "The Junkyard Cafe 4.3 313256\n",
      "Teddy Boy 4.3 18281985\n"
     ]
    }
   ],
   "source": [
    "import requests\n",
    "import json\n",
    "# API Key: 8ed094119a0b86b85f48073fe55974cc\n",
    "p=requests.get('https://developers.zomato.com/api/v2.1/search?entity_id=104&entity_type=subzone&count=10&lat=28.632832&lon=77.219688&cuisines=73&sort=rating',headers={'user-key': '8ed094119a0b86b85f48073fe55974cc'})\n",
    "python_data=p.json()\n",
    "#print(python_data)\n",
    "for i in python_data['restaurants']:\n",
    "    print(i['restaurant']['name'],i['restaurant']['user_rating']['aggregate_rating'],i['restaurant']['id'])"
   ]
  },
  {
   "cell_type": "markdown",
   "metadata": {},
   "source": [
    "## Zomato Cuisine 1.5\n",
    "Fetch the category id of category type ‘Cafes’ using Zomato API.\n",
    "Print the category_id.\n",
    "\n",
    "Output Format:\n",
    "category_id"
   ]
  },
  {
   "cell_type": "code",
   "execution_count": 57,
   "metadata": {},
   "outputs": [
    {
     "name": "stdout",
     "output_type": "stream",
     "text": [
      "{'categories': [{'categories': {'id': 1, 'name': 'Delivery'}}, {'categories': {'id': 2, 'name': 'Dine-out'}}, {'categories': {'id': 3, 'name': 'Nightlife'}}, {'categories': {'id': 4, 'name': 'Catching-up'}}, {'categories': {'id': 5, 'name': 'Takeaway'}}, {'categories': {'id': 6, 'name': 'Cafes'}}, {'categories': {'id': 7, 'name': 'Daily Menus'}}, {'categories': {'id': 8, 'name': 'Breakfast'}}, {'categories': {'id': 9, 'name': 'Lunch'}}, {'categories': {'id': 10, 'name': 'Dinner'}}, {'categories': {'id': 11, 'name': 'Pubs & Bars'}}, {'categories': {'id': 13, 'name': 'Pocket Friendly Delivery'}}, {'categories': {'id': 14, 'name': 'Clubs & Lounges'}}]}\n",
      "6\n"
     ]
    }
   ],
   "source": [
    "import requests\n",
    "import json\n",
    "# API Key: 8ed094119a0b86b85f48073fe55974cc\n",
    "p=requests.get('https://developers.zomato.com/api/v2.1/categories',headers={'user-key': '8ed094119a0b86b85f48073fe55974cc'})\n",
    "python_data=p.json()\n",
    "print(python_data)\n",
    "for i in python_data['categories']:\n",
    "    if i['categories']['name']=='Cafes':\n",
    "        print(i['categories']['id'])"
   ]
  },
  {
   "cell_type": "markdown",
   "metadata": {},
   "source": [
    "## Zomato Cuisine 1.6\n",
    "Fetch the best-rated restaurant for ‘Mexican’ cuisine with category type ‘ Cafes’ present in Connaught Place using Zomato API.\n",
    "Print the restaurant name, user rating and restaurant id.\n",
    "\n",
    "Output Format:\n",
    "\n",
    "name_1 rating_1 id_1\n",
    "\n",
    "name_2 rating_2 id_2\n",
    "\n",
    "name_3 rating_3 id_3\n",
    "\n",
    ". . .\n",
    "\n",
    ". . ."
   ]
  },
  {
   "cell_type": "code",
   "execution_count": 72,
   "metadata": {},
   "outputs": [
    {
     "name": "stdout",
     "output_type": "stream",
     "text": [
      "Xero Degrees 4.3 18729557\n",
      "Chaayos - Meri Wali Chai 4.2 18237315\n",
      "The Art House Bar n Cafe 4.0 18863766\n",
      "Cafe Coffee Day - The Square 3.5 303034\n"
     ]
    }
   ],
   "source": [
    "import requests\n",
    "import json\n",
    "# API Key: 8ed094119a0b86b85f48073fe55974cc\n",
    "p=requests.get('https://developers.zomato.com/api/v2.1/search?entity_id=104&entity_type=subzone&lat=28.632832&lon=77.219688&cuisines=73&category=6&sort=rating&order=desc',\n",
    "               headers={'user-key': '8ed094119a0b86b85f48073fe55974cc'})\n",
    "python_data=p.json()\n",
    "#print(python_data)\n",
    "for i in python_data['restaurants']:\n",
    "    print(i['restaurant']['name'],i['restaurant']['user_rating']['aggregate_rating'],i['restaurant']['id'])"
   ]
  },
  {
   "cell_type": "markdown",
   "metadata": {},
   "source": [
    "## Zomato Cuisine 1.7\n",
    "Fetch the latest review of the best-rated restaurant for ‘Mexican’ cuisine with Category type ‘Cafes’ present in Connaught Place using Zomato API.\n",
    "Print the name of user ,user rating and review text.\n",
    "\n",
    "Note :\n",
    "Due to limitation of basic API plan it, can only fetch 5 latest review\n",
    "\n",
    "Output Format:\n",
    "\n",
    "name1 user_rating1 review_text1\n",
    "\n",
    "name2 user_rating2 review_text2\n",
    "\n",
    "name3 user_rating3 review_text3\n",
    "\n",
    "name4 user_rating4 review_text4\n",
    "\n",
    "name5 user_rating5 review_text5"
   ]
  },
  {
   "cell_type": "code",
   "execution_count": 74,
   "metadata": {},
   "outputs": [
    {
     "name": "stdout",
     "output_type": "stream",
     "text": [
      "Ishu 5 A cozy place with lipsmacking food is what depicts Xero Degrees. They've a wide variety of dishes to choose from. I ordered chilly x chicken fries and chicken wings and absolutely fell in love with them. The taste was a 10/10 for me. The decor was beautiful. The service was prompt and the place was sanitised and safe to eat. What more could one ask for? Absolutely enjoyed my time there. Will visit again soon!\n",
      "Ishika 5 An outlet which can totally be trusted amidst the pandemic. They've maintained all the safety requirements and have taken utmost care with the preparation of their food. Their updated menu has some of the most amazing dishes that you'll ever have. My favourites were the chicken boneless strips and the nutella oreo waffle. The food has both, top notch quality and wholesome quantity. Loved every bit of it!\n",
      "Bhukkaddelhi Ke 5 \n",
      "Nadeem Sarwar 5 If CP is famous for best cafe then the Xero Degrees is one of them..  Best quality of cheese 🧀 items and best of pasta 🍝 to eat..  Highly recommended !!!\n",
      "Niharika 4 Must try  Pizza jar  Pasta  Virgin mojito May find it hard to find proper seating .\n"
     ]
    }
   ],
   "source": [
    "import requests\n",
    "import json\n",
    "# API Key: 8ed094119a0b86b85f48073fe55974cc\n",
    "p=requests.get('https://developers.zomato.com/api/v2.1/reviews?res_id=18729557',\n",
    "               headers={'user-key': '8ed094119a0b86b85f48073fe55974cc'})\n",
    "python_data=p.json()\n",
    "#print(python_data)\n",
    "for i in python_data['user_reviews']:\n",
    "    print(i['review']['user']['name'],i['review']['rating'],i['review']['review_text'])"
   ]
  },
  {
   "cell_type": "markdown",
   "metadata": {},
   "source": [
    "## Zomato restaurant Problem Detail\n",
    "Problem 2\n",
    "\"Pa Pa Ya\" is a modern Asian bistro & tapas bar from the House of Massive Restaurants and best described as a chic, modern and radical reinterpretation of Asian cuisine.\n",
    "You have heard from your friends that restaurant \"Pa Pa Ya\" in Delhi is quite good. So now you want to extract the information related to \"Pa Pa Ya\" using Zomato API.\n",
    "There is a list of questions related to the restaurant given in the next section.\n"
   ]
  },
  {
   "cell_type": "markdown",
   "metadata": {},
   "source": [
    "## Zomato Restaurant 2.2\n",
    "Fetch the details of \"Pa Pa Ya\" restaurant using Zomato API.\n",
    "Print the user rating, the average cost for two, cuisines and address of \"Pa Pa Ya\" restaurant.\n",
    "\n",
    "Output Format:\n",
    "\n",
    "user_rating\n",
    "\n",
    "average_cost_for_two\n",
    "\n",
    "cuisines\n",
    "\n",
    "address"
   ]
  },
  {
   "cell_type": "code",
   "execution_count": 83,
   "metadata": {},
   "outputs": [
    {
     "name": "stdout",
     "output_type": "stream",
     "text": [
      "18429148\n"
     ]
    }
   ],
   "source": [
    "import requests\n",
    "import json\n",
    "# API Key: 8ed094119a0b86b85f48073fe55974cc\n",
    "p=requests.get('https://developers.zomato.com/api/v2.1/search?entity_id=508&entity_type=group&lat=28.5291530566&lon=77.2192720324&sort=rating&order=desc',headers={'user-key': '8ed094119a0b86b85f48073fe55974cc'})\n",
    "python_data=p.json()\n",
    "#print(python_data)\n",
    "#to fetch id of Pa Pa Ya\n",
    "for i in python_data['restaurants']:\n",
    "    if i['restaurant']['name']=='Pa Pa Ya':\n",
    "        print(i['restaurant']['id'])"
   ]
  },
  {
   "cell_type": "code",
   "execution_count": 92,
   "metadata": {},
   "outputs": [
    {
     "name": "stdout",
     "output_type": "stream",
     "text": [
      "4.9\n",
      "2500\n",
      "Asian, Chinese, Thai, Japanese\n",
      "A-3, Select Citywalk, District Centre, Saket, New Delhi\n"
     ]
    }
   ],
   "source": [
    "import requests\n",
    "import json\n",
    "# API Key: 8ed094119a0b86b85f48073fe55974cc\n",
    "p=requests.get('https://developers.zomato.com/api/v2.1/restaurant?res_id=18429148',headers={'user-key': '8ed094119a0b86b85f48073fe55974cc'})\n",
    "python_data=p.json()\n",
    "#print(python_data)\n",
    "print(python_data['user_rating']['aggregate_rating'])\n",
    "print(python_data['average_cost_for_two'])\n",
    "print(python_data['cuisines'])\n",
    "print(python_data['location']['address'])"
   ]
  },
  {
   "cell_type": "markdown",
   "metadata": {},
   "source": [
    "## Zomato Restaurant 2.3\n",
    "Find out whether online table reservation is supported in \"Pa Pa Ya\" restaurant or not using Zomato API.\n",
    "Print 'yes' if online table reservation is supported else 'no'\n",
    "Note :\n",
    "In Zomato response JSON. 1=Yes and 0 = No\n",
    "\n",
    "Output Format:\n",
    "\n",
    "yes/no"
   ]
  },
  {
   "cell_type": "code",
   "execution_count": 94,
   "metadata": {},
   "outputs": [
    {
     "name": "stdout",
     "output_type": "stream",
     "text": [
      "yes\n"
     ]
    }
   ],
   "source": [
    "import requests\n",
    "import json\n",
    "# API Key: 8ed094119a0b86b85f48073fe55974cc\n",
    "p=requests.get('https://developers.zomato.com/api/v2.1/restaurant?res_id=18429148',headers={'user-key': '8ed094119a0b86b85f48073fe55974cc'})\n",
    "python_data=p.json()\n",
    "#print(python_data)\n",
    "if python_data['is_table_reservation_supported'] ==1:\n",
    "    print('yes')\n",
    "else:\n",
    "    print('no')"
   ]
  },
  {
   "cell_type": "markdown",
   "metadata": {},
   "source": [
    "## Zomato Restaurant 2.4\n",
    "Fetch the latest review of \"Pa Pa Ya\" restaurant using Zomato API.\n",
    "Print the name of the user, user rating and review text.\n",
    "Note :\n",
    "\n",
    "Due to the limitation of the basic API plan, it can only fetch 5 latest review\n",
    "\n",
    "Output Format:\n",
    "\n",
    "name1 user_rating1 review_text1\n",
    "\n",
    "name2 user_rating2 review_text2\n",
    "\n",
    "name3 user_rating3 review_text3\n",
    "\n",
    "name4 user_rating4 review_text4\n",
    "\n",
    "name5 user_rating5 review_text5"
   ]
  },
  {
   "cell_type": "code",
   "execution_count": 95,
   "metadata": {},
   "outputs": [
    {
     "name": "stdout",
     "output_type": "stream",
     "text": [
      "Rahul.bohra3297 5 Visited the restaurant on their first opening day post lockdown. They were following hygiene and sanitization standards very well. All the staff members were reflecting a sense of positivity and it was topped up with excellent professionalism delivered by vikram. And yes, most importantly they have a lovely menu with sumptuous sushi and popular staple main courses with every detail in bringing the flavours. Keep it up.\n",
      "Abhinav Khanna 5 Watermelon Amuse Bouche: as fancy as it sounds it’s a classic take on a childhood favourite Vietnamese dessert. Although, they don’t mark this dish as dessert. . So, this picture is from my visit to Pa Pa Ya which a modern Asian bistro & tapas bar from the House of Massive Restaurants and best described as a chic, modern and radical reinterpretation of Asian cuisine. Revolutionarising the pan-Asian dining experience, Pa Pa Ya is an assimilation of various cooking techniques and cultures found across the Asian continent. It is as much about culinary art as it is about offering an exceptional gastronomic experience. . The food here is unique, delicious and artistic. If you have a celebration coming soon, I would recommend you to book a table here and have a great time.\n",
      "Shweta Kumar 4 \n",
      "Hungry Wolfs 5 This place serves amazing food the ambiance is super good you can go on dates chill out with friends and family kitty’s aswell\n",
      "Rushil Badhwar 4 \n"
     ]
    }
   ],
   "source": [
    "import requests\n",
    "import json\n",
    "# API Key: 8ed094119a0b86b85f48073fe55974cc\n",
    "p=requests.get('https://developers.zomato.com/api/v2.1/reviews?res_id=18429148',headers={'user-key': '8ed094119a0b86b85f48073fe55974cc'})\n",
    "python_data=p.json()\n",
    "#print(python_data)\n",
    "for i in python_data['user_reviews']:\n",
    "    print(i['review']['user']['name'],i['review']['rating'],i['review']['review_text'])\n",
    "    "
   ]
  },
  {
   "cell_type": "markdown",
   "metadata": {},
   "source": [
    "## Zomato Distance Problem\n",
    "Distance is also a very important factor while selecting a restaurant. Suppose you are at Coding Ninjas and you want to select the restaurant which is near to you using Zomato API.\n",
    "Note down the latitude and longitude of Coding Ninjas using Google Maps\n",
    "There is a list of questions related to restaurant near me given in the next section."
   ]
  },
  {
   "cell_type": "markdown",
   "metadata": {},
   "source": [
    "## Zomato distance 3.1\n",
    "Fetch the cuisine_id of of cuisine ‘BBQ’ using Zomato API.\n",
    "Print the cuisine_id\n",
    "\n",
    "Output Format:\n",
    "\n",
    "cuisine_id"
   ]
  },
  {
   "cell_type": "code",
   "execution_count": 97,
   "metadata": {},
   "outputs": [
    {
     "name": "stdout",
     "output_type": "stream",
     "text": [
      "193\n"
     ]
    }
   ],
   "source": [
    "import requests\n",
    "import json\n",
    "# API Key: 8ed094119a0b86b85f48073fe55974cc\n",
    "p=requests.get('https://developers.zomato.com/api/v2.1/cuisines?city_id=1',headers={'user-key': '8ed094119a0b86b85f48073fe55974cc'})\n",
    "python_data=p.json()\n",
    "#print(python_data)\n",
    "for i in python_data['cuisines']:\n",
    "    if i['cuisine']['cuisine_name']=='BBQ':\n",
    "        print(i['cuisine']['cuisine_id'])"
   ]
  },
  {
   "cell_type": "markdown",
   "metadata": {},
   "source": [
    "## Zomato distance 3.2\n",
    "Fetch the list of the top 10 restaurants serving cuisine ‘BBQ’ which are nearest to Coding Ninjas.\n",
    "Print the restaurant name, user rating, restaurant id and locality in which restaurant is present.\n",
    "\n",
    "Output Format:\n",
    "\n",
    "name_1 rating_1 id_1 locality_1\n",
    "\n",
    "name_2 rating_2 id_2 locality_2\n",
    "\n",
    "name_3 rating_3 id_3 locality_3\n",
    "\n",
    ". . .\n",
    "\n",
    ". . ."
   ]
  },
  {
   "cell_type": "code",
   "execution_count": 102,
   "metadata": {},
   "outputs": [
    {
     "name": "stdout",
     "output_type": "stream",
     "text": [
      "Themis Barbecue House 4.3 18204820 Netaji Subhash Place\n",
      "Barbeque Nation 4.6 9561 Netaji Subhash Place\n",
      "Amazings Kitchen 0 19370424 Prashant Vihar\n",
      "Moet's Barbeque 0 19238917 Alipur\n",
      "UBQ by Barbeque Nation 3.4 18889760 Rohini\n",
      "Kays Bar-Be-Que 4.0 3079 Ashok Vihar Phase 1\n",
      "Chicken Adda 0 19179179 Rohini\n",
      "7teen BBQ Bistro Bnq 3.9 18595610 Moti Nagar\n",
      "Pishori Chicken 0 19061375 Kirti Nagar\n",
      "Hunger On Wheels 0 19054336 Vijay Nagar\n"
     ]
    }
   ],
   "source": [
    "#Coding Ninjas coordinates\n",
    "#latitude-28.6978261 & longitude-77.1405572\n",
    "#https://developers.zomato.com/api/v2.1/search?entity_id=1&entity_type=city&count=10&lat=28.6978261&lon=77.1405572&cuisines=193&sort=real_distance&order=desc\n",
    "import requests\n",
    "import json\n",
    "# API Key: 8ed094119a0b86b85f48073fe55974cc\n",
    "p=requests.get('https://developers.zomato.com/api/v2.1/search?entity_id=1&entity_type=city&count=10&lat=28.6978261&lon=77.1405572&cuisines=193&sort=real_distance&order=desc',headers={'user-key': '8ed094119a0b86b85f48073fe55974cc'})\n",
    "python_data=p.json()\n",
    "#print(python_data)\n",
    "for i in python_data['restaurants']:\n",
    "    print(i['restaurant']['name'],i['restaurant']['user_rating']['aggregate_rating'],i['restaurant']['id'],i['restaurant']['location']['locality'])"
   ]
  },
  {
   "cell_type": "markdown",
   "metadata": {},
   "source": [
    "## Zomato distance 3.3\n",
    "Fetch the latest review of the restaurant serving cuisine ‘BBQ’ which is most nearest to Coding ninjas?\n",
    "Print the name of user ,user rating and review text.\n",
    "Note :\n",
    "Due to limitation of basic API plan it, can only fetch 5 latest review\n",
    "\n",
    "Output Format:\n",
    "\n",
    "name1 user_rating1 review_text1\n",
    "\n",
    "name2 user_rating2 review_text2\n",
    "\n",
    "name3 user_rating3 review_text3\n",
    "\n",
    "name4 user_rating4 review_text4\n",
    "\n",
    "name5 user_rating5 review_text5\n"
   ]
  },
  {
   "cell_type": "code",
   "execution_count": 103,
   "metadata": {},
   "outputs": [
    {
     "name": "stdout",
     "output_type": "stream",
     "text": [
      "FoodisBae 4 Roof top cafe with good view. The interiors are nice and the dj plays good music. Loved the food they serve here. They have amazing buffet also. Pizza,pasta and drinks were pretty good.service was nice.\n",
      "Milind 4 If u are bored of Barbeque nation , this place is must try for u🤓🔥😅. It is one of the best barbeque restaurants in Delhi offering rooftop seating . So we opted for rooftop seating for our lunch & the view was amazing 🔥😻. We opted for veg buffet which included a range of starters like crispy corn , paneer tikka , spicy mushroom . Then in main course we tried manchurian with noodles . As a complementary drink I ordered Kiwi mojito which was so refreshing & eye catchy too😻🔥🔥🔥🤓🤓. So if u visit Pitampura next time don't miss this amazing place.👻🔥🤓😻😻\n",
      "Shashank Agarwal 4 Great place for an experience of grill in north delhi. Great starters, nice main course and average dessert.\n",
      "Babu Beg 5 Staff was polite (5*) speedy service (5*) food was delicious and had plenty options. The only difference I could notice that staff was either not well aware of the schemes offered by the Restaurant or were pretending as there didn't exist any scheme (which otherwise were appearing even on the pamphlet put on the table). Still would love to visit again soon.\n",
      "... 4 \n"
     ]
    }
   ],
   "source": [
    "#https://developers.zomato.com/api/v2.1/reviews?res_id=18204820\n",
    "import requests\n",
    "import json\n",
    "# API Key: 8ed094119a0b86b85f48073fe55974cc\n",
    "p=requests.get('https://developers.zomato.com/api/v2.1/reviews?res_id=18204820',headers={'user-key': '8ed094119a0b86b85f48073fe55974cc'})\n",
    "python_data=p.json()\n",
    "for i in python_data['user_reviews']:\n",
    "    print(i['review']['user']['name'],i['review']['rating'],i['review']['review_text'])"
   ]
  },
  {
   "cell_type": "markdown",
   "metadata": {},
   "source": [
    "## Zomato distance 3.4\n",
    "Experiment with the radius parameter that is present in ‘GET/search’. Fetch the list of top 10 best-restaurant present in a radius of 4 km of coding ninjas.\n",
    "\n",
    "Print the restaurant name, user rating, restaurant id and locality in which restaurant is present.\n",
    "\n",
    "Output Format:\n",
    "\n",
    "name_1 rating_1 id_1 locality_1\n",
    "\n",
    "name_2 rating_2 id_2 locality_2\n",
    "\n",
    "name_3 rating_3 id_3 locality_3\n",
    "\n",
    ". . .\n",
    "\n",
    ". . ."
   ]
  },
  {
   "cell_type": "code",
   "execution_count": 116,
   "metadata": {},
   "outputs": [
    {
     "name": "stdout",
     "output_type": "stream",
     "text": [
      "Indian Accent 4.9 2004 The Lodhi, Lodhi Road\n",
      "The Big Chill 4.9 1614 Khan Market\n",
      "Cafe Lota 4.9 305525 Pragati Maidan\n",
      "Pa Pa Ya 4.9 18429148 Select Citywalk Mall, Saket\n",
      "Kuremal Mohan Lal Kulfi Wale 4.9 303642 Chawri Bazar\n",
      "Dum-Pukht - ITC Maurya 4.9 2744 ITC Maurya, Chanakyapuri\n",
      "The Big Chill 4.9 8244 Khan Market\n",
      "Wenger's 4.8 4249 Connaught Place\n",
      "Manhattan Bar & Brewery 4.8 303960 Global Foyer Mall, Golf Course Road\n",
      "Downtown - Diners & Living Beer Cafe 4.8 4959 Sector 29\n"
     ]
    }
   ],
   "source": [
    "#https://developers.zomato.com/api/v2.1/search?count=10&lat=28.6978261&lon=77.1405572&radius=4000&sort=rating&order=desc\n",
    "import requests\n",
    "import json\n",
    "# API Key: 8ed094119a0b86b85f48073fe55974cc\n",
    "p=requests.get('https://developers.zomato.com/api/v2.1/search?count=10&lat=28.6978261&lon=77.1405572&radius=4000&sort=rating&order=desc',headers={'user-key': '8ed094119a0b86b85f48073fe55974cc'})\n",
    "python_data=p.json()\n",
    "#print(python_data)\n",
    "for i in python_data['restaurants']:\n",
    "    print(i['restaurant']['name'],i['restaurant']['user_rating']['aggregate_rating'],i['restaurant']['id'],i['restaurant']['location']['locality'])"
   ]
  },
  {
   "cell_type": "markdown",
   "metadata": {},
   "source": [
    "## Zomato distance 3.5\n",
    "Compare the location of the restaurant whether really they are in a distance of 4 km to Coding Ninjas. Find out whether these API radius feature is working or not.\n",
    "\n",
    "Print 'yes' if radius feature work else print 'no'.\n",
    "\n",
    "Note :\n",
    "Use google search to find whether restaurant lie in range of 4km or not.\n",
    "\n",
    "Output Format:\n",
    "\n",
    "yes/no"
   ]
  },
  {
   "cell_type": "markdown",
   "metadata": {},
   "source": [
    "### The restaurants listed above are not really in a distance of 4 km to Coding Ninjas. As the diatnce of Indian Accent is more than 20km and that of The Big Chill is 24km. Thus answer is no"
   ]
  },
  {
   "cell_type": "code",
   "execution_count": null,
   "metadata": {},
   "outputs": [],
   "source": []
  }
 ],
 "metadata": {
  "kernelspec": {
   "display_name": "Python 3",
   "language": "python",
   "name": "python3"
  },
  "language_info": {
   "codemirror_mode": {
    "name": "ipython",
    "version": 3
   },
   "file_extension": ".py",
   "mimetype": "text/x-python",
   "name": "python",
   "nbconvert_exporter": "python",
   "pygments_lexer": "ipython3",
   "version": "3.7.3"
  }
 },
 "nbformat": 4,
 "nbformat_minor": 4
}
